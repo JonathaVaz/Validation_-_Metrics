{
 "cells": [
  {
   "cell_type": "code",
   "execution_count": 8,
   "id": "b84ce6ae",
   "metadata": {},
   "outputs": [],
   "source": [
    "from sklearn.model_selection import KFold, cross_val_score\n",
    "from sklearn.ensemble import RandomForestClassifier\n",
    "from sklearn.datasets import load_iris"
   ]
  },
  {
   "cell_type": "code",
   "execution_count": 9,
   "id": "91a53876",
   "metadata": {},
   "outputs": [],
   "source": [
    "# Carregando dados\n",
    "data = load_iris()\n",
    "X, y = data.data, data.target"
   ]
  },
  {
   "cell_type": "markdown",
   "id": "b56b17fe",
   "metadata": {},
   "source": [
    "## K-Fold Cross-Validation"
   ]
  },
  {
   "cell_type": "code",
   "execution_count": 10,
   "id": "3f2f4c58",
   "metadata": {},
   "outputs": [
    {
     "name": "stdout",
     "output_type": "stream",
     "text": [
      "Acurácias nos folds: [0.96666667 0.96666667 0.96666667 0.93333333 0.9       ]\n",
      "Acurácia média: 0.9466666666666667\n"
     ]
    }
   ],
   "source": [
    "# Configuração do modelo e do K-Fold\n",
    "model = RandomForestClassifier(random_state=1)\n",
    "kf = KFold(n_splits=5, shuffle=True, random_state=1)\n",
    "\n",
    "# Validação Cruzada\n",
    "scores = cross_val_score(model, X, y, cv=kf)\n",
    "\n",
    "# Resultados\n",
    "print(\"Acurácias nos folds:\", scores)\n",
    "print(\"Acurácia média:\", scores.mean())"
   ]
  },
  {
   "cell_type": "markdown",
   "id": "d346f2e5",
   "metadata": {},
   "source": [
    "## Stratified K-Fold"
   ]
  },
  {
   "cell_type": "code",
   "execution_count": 11,
   "id": "bfbf42d5",
   "metadata": {},
   "outputs": [
    {
     "name": "stdout",
     "output_type": "stream",
     "text": [
      "Acurácias nos folds (Stratified): [1.         0.96666667 0.93333333 1.         0.9       ]\n",
      "Acurácia média: 0.9600000000000002\n"
     ]
    }
   ],
   "source": [
    "from sklearn.model_selection import StratifiedKFold\n",
    "\n",
    "# Configuração do Stratified K-Fold\n",
    "skf = StratifiedKFold(n_splits=5, shuffle=True, random_state=42)\n",
    "\n",
    "# Validação Cruzada\n",
    "stratified_scores = cross_val_score(model, X, y, cv=skf)\n",
    "\n",
    "# Resultados\n",
    "print(\"Acurácias nos folds (Stratified):\", stratified_scores)\n",
    "print(\"Acurácia média:\", stratified_scores.mean())"
   ]
  },
  {
   "cell_type": "markdown",
   "id": "aab560c3",
   "metadata": {},
   "source": [
    "## Leave One Out"
   ]
  },
  {
   "cell_type": "code",
   "execution_count": 12,
   "id": "5fb4e620",
   "metadata": {},
   "outputs": [
    {
     "name": "stdout",
     "output_type": "stream",
     "text": [
      "Acurácia média (LOOCV): 0.9533333333333334\n"
     ]
    }
   ],
   "source": [
    "from sklearn.model_selection import LeaveOneOut\n",
    "\n",
    "# Configuração do LOOCV\n",
    "loo = LeaveOneOut()\n",
    "loo_scores = cross_val_score(model, X, y, cv=loo)\n",
    "\n",
    "# Resultados\n",
    "print(\"Acurácia média (LOOCV):\", loo_scores.mean())"
   ]
  },
  {
   "cell_type": "markdown",
   "id": "5cdf7a4f",
   "metadata": {},
   "source": [
    "## Comparação de Modelos"
   ]
  },
  {
   "cell_type": "code",
   "execution_count": 13,
   "id": "b06f13af",
   "metadata": {},
   "outputs": [
    {
     "name": "stdout",
     "output_type": "stream",
     "text": [
      "Random Forest - Acurácia média: 0.9400\n",
      "Logistic Regression - Acurácia média: 0.9600\n",
      "SVM - Acurácia média: 0.9467\n"
     ]
    },
    {
     "name": "stderr",
     "output_type": "stream",
     "text": [
      "C:\\Users\\Pichau\\anaconda3\\lib\\site-packages\\sklearn\\linear_model\\_logistic.py:458: ConvergenceWarning: lbfgs failed to converge (status=1):\n",
      "STOP: TOTAL NO. of ITERATIONS REACHED LIMIT.\n",
      "\n",
      "Increase the number of iterations (max_iter) or scale the data as shown in:\n",
      "    https://scikit-learn.org/stable/modules/preprocessing.html\n",
      "Please also refer to the documentation for alternative solver options:\n",
      "    https://scikit-learn.org/stable/modules/linear_model.html#logistic-regression\n",
      "  n_iter_i = _check_optimize_result(\n",
      "C:\\Users\\Pichau\\anaconda3\\lib\\site-packages\\sklearn\\linear_model\\_logistic.py:458: ConvergenceWarning: lbfgs failed to converge (status=1):\n",
      "STOP: TOTAL NO. of ITERATIONS REACHED LIMIT.\n",
      "\n",
      "Increase the number of iterations (max_iter) or scale the data as shown in:\n",
      "    https://scikit-learn.org/stable/modules/preprocessing.html\n",
      "Please also refer to the documentation for alternative solver options:\n",
      "    https://scikit-learn.org/stable/modules/linear_model.html#logistic-regression\n",
      "  n_iter_i = _check_optimize_result(\n",
      "C:\\Users\\Pichau\\anaconda3\\lib\\site-packages\\sklearn\\linear_model\\_logistic.py:458: ConvergenceWarning: lbfgs failed to converge (status=1):\n",
      "STOP: TOTAL NO. of ITERATIONS REACHED LIMIT.\n",
      "\n",
      "Increase the number of iterations (max_iter) or scale the data as shown in:\n",
      "    https://scikit-learn.org/stable/modules/preprocessing.html\n",
      "Please also refer to the documentation for alternative solver options:\n",
      "    https://scikit-learn.org/stable/modules/linear_model.html#logistic-regression\n",
      "  n_iter_i = _check_optimize_result(\n",
      "C:\\Users\\Pichau\\anaconda3\\lib\\site-packages\\sklearn\\linear_model\\_logistic.py:458: ConvergenceWarning: lbfgs failed to converge (status=1):\n",
      "STOP: TOTAL NO. of ITERATIONS REACHED LIMIT.\n",
      "\n",
      "Increase the number of iterations (max_iter) or scale the data as shown in:\n",
      "    https://scikit-learn.org/stable/modules/preprocessing.html\n",
      "Please also refer to the documentation for alternative solver options:\n",
      "    https://scikit-learn.org/stable/modules/linear_model.html#logistic-regression\n",
      "  n_iter_i = _check_optimize_result(\n"
     ]
    }
   ],
   "source": [
    "from sklearn.linear_model import LogisticRegression\n",
    "from sklearn.svm import SVC\n",
    "\n",
    "# Modelos comparados\n",
    "models = {\n",
    "    \"Random Forest\": RandomForestClassifier(random_state=42),\n",
    "    \"Logistic Regression\": LogisticRegression(),\n",
    "    \"SVM\": SVC()\n",
    "}\n",
    "\n",
    "# Comparação usando K-Fold\n",
    "for model_name, model in models.items():\n",
    "    scores = cross_val_score(model, X, y, cv=kf)\n",
    "    print(f\"{model_name} - Acurácia média: {scores.mean():.4f}\")"
   ]
  },
  {
   "cell_type": "markdown",
   "id": "eb1b1340",
   "metadata": {},
   "source": [
    "## Visualizações "
   ]
  },
  {
   "cell_type": "code",
   "execution_count": 14,
   "id": "4f8a3862",
   "metadata": {},
   "outputs": [
    {
     "data": {
      "image/png": "[encoded data removed]",
      "text/plain": [
       "<Figure size 640x480 with 1 Axes>"
      ]
     },
     "metadata": {},
     "output_type": "display_data"
    }
   ],
   "source": [
    "import matplotlib.pyplot as plt\n",
    "\n",
    "# Comparação de Acurácias\n",
    "plt.boxplot([scores, stratified_scores], labels=[\"K-Fold\", \"Stratified K-Fold\"])\n",
    "plt.title(\"Comparação de Acurácias\")\n",
    "plt.ylabel(\"Acurácia\")\n",
    "plt.grid(True)\n",
    "plt.show()"
   ]
  }
 ],
 "metadata": {
  "kernelspec": {
   "display_name": "Python 3 (ipykernel)",
   "language": "python",
   "name": "python3"
  },
  "language_info": {
   "codemirror_mode": {
    "name": "ipython",
    "version": 3
   },
   "file_extension": ".py",
   "mimetype": "text/x-python",
   "name": "python",
   "nbconvert_exporter": "python",
   "pygments_lexer": "ipython3",
   "version": "3.9.13"
  }
 },
 "nbformat": 4,
 "nbformat_minor": 5
}
